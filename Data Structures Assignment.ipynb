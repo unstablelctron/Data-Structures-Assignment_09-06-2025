{
 "cells": [
  {
   "cell_type": "markdown",
   "id": "4e19d0b6-31ad-473a-a7ae-74e7364ab420",
   "metadata": {},
   "source": [
    "Q1: What are data structures, and why are they important?\n",
    "A: Data structures are specialized formats for organizing, processing, retrieving, and storing data.\n",
    "They are important because they help in managing and organizing data efficiently, allowing for\n",
    "faster and more effective data manipulation, search, and storage operations"
   ]
  },
  {
   "cell_type": "markdown",
   "id": "f0b3cee0-c0e5-49f3-8369-bc27469c7b4b",
   "metadata": {},
   "source": [
    "Q2: Explain the difference between mutable and immutable data types with examples.\n",
    "A: Mutable data types can be changed after creation (e.g., lists: a = [1, 2]; a[0] = 3). Immutable data\n",
    "types cannot be changed after creation (e.g., strings: s = 'hello'; s[0] = 'H' will cause an error)."
   ]
  },
  {
   "cell_type": "markdown",
   "id": "feceae9e-c965-4d89-a927-0947d4e15cdb",
   "metadata": {},
   "source": [
    "Q3: What are the main differences between lists and tuples in Python?\n",
    "A: Lists are mutable, slower, and denoted by []. Tuples are immutable, faster, and denoted by ().\n",
    "Tuples are often used for fixed collections of items."
   ]
  },
  {
   "cell_type": "markdown",
   "id": "d55e5ee7-106a-4269-a371-1b06d1f81e5e",
   "metadata": {},
   "source": [
    "Q4: Describe how dictionaries store data.\n",
    "A: Dictionaries store data as key-value pairs. Each key must be unique, and it maps to a\n",
    "corresponding value. Data is stored in a hash table internally."
   ]
  },
  {
   "cell_type": "markdown",
   "id": "3243d88f-d453-4350-9ee3-0383510e6530",
   "metadata": {},
   "source": [
    "Q5: Why might you use a set instead of a list in Python?\n",
    "A: Sets automatically remove duplicates and are optimized for membership testing, making them\n",
    "useful for operations like finding unique elements."
   ]
  },
  {
   "cell_type": "markdown",
   "id": "33c54736-8a64-47e3-be4b-50d18112ae6f",
   "metadata": {},
   "source": [
    "Q6: What is a string in Python, and how is it different from a list?\n",
    "A: A string is an immutable sequence of characters, while a list is a mutable sequence that can hold\n",
    "any data types. Strings can't be changed after creation, lists can."
   ]
  },
  {
   "cell_type": "markdown",
   "id": "9e32f17a-6d79-4c79-bfdd-05b5f5751f2f",
   "metadata": {},
   "source": [
    "Q7: How do tuples ensure data integrity in Python?\n",
    "A: Tuples are immutable, meaning their contents cannot be changed once defined. This prevents\n",
    "accidental modification, ensuring data integrity."
   ]
  },
  {
   "cell_type": "markdown",
   "id": "81d054db-b655-45bf-9899-101862383e07",
   "metadata": {},
   "source": [
    "Q8: What is a hash table, and how does it relate to dictionaries in Python?\n",
    "A: A hash table is a data structure that maps keys to values using a hash function. Python\n",
    "dictionaries use hash tables for fast data retrieval"
   ]
  },
  {
   "cell_type": "markdown",
   "id": "29d0ac1d-8e0f-4710-9edf-909206f37c11",
   "metadata": {},
   "source": [
    "Q9: Can lists contain different data types in Python?\n",
    "A: Yes, lists in Python can hold multiple data types, such as integers, strings, and even other lists."
   ]
  },
  {
   "cell_type": "markdown",
   "id": "9029fc79-81d4-4c50-acf5-948eeffefd28",
   "metadata": {},
   "source": [
    "Q10: Explain why strings are immutable in Python.\n",
    "A: Strings are immutable to ensure consistency, memory efficiency, and thread-safety. Any\n",
    "operation that modifies a string creates a new string."
   ]
  },
  {
   "cell_type": "markdown",
   "id": "ddf9eff7-59c4-4678-9ab1-df214e329afc",
   "metadata": {},
   "source": [
    "Q11: What advantages do dictionaries offer over lists for certain tasks?\n",
    "A: Dictionaries provide faster lookup by keys (O(1) time complexity) and are better suited when data\n",
    "is naturally associated as key-value pairs."
   ]
  },
  {
   "cell_type": "markdown",
   "id": "b8c5578f-5d80-4a09-9b6b-d9c6c0a760d7",
   "metadata": {},
   "source": [
    "Q12: Describe a scenario where using a tuple would be preferable over a list.\n",
    "A: Tuples are ideal when data should not change, such as storing coordinates, RGB color values, or\n",
    "database records."
   ]
  },
  {
   "cell_type": "markdown",
   "id": "ef5cb84f-5c54-4fb3-b086-113cb10cef48",
   "metadata": {},
   "source": [
    "Q13: How do sets handle duplicate values in Python?\n",
    "A: Sets automatically eliminate duplicate values. Adding a duplicate element has no effect."
   ]
  },
  {
   "cell_type": "markdown",
   "id": "7c451071-bfd4-4874-b1e8-6f98acb97531",
   "metadata": {},
   "source": [
    "Q14: How does the 'in' keyword work differently for lists and dictionaries?\n",
    "A: For lists, `in` checks if a value exists. For dictionaries, `in` checks if a key exists."
   ]
  },
  {
   "cell_type": "markdown",
   "id": "0b6bb15a-18fc-47d5-8136-ca02044e08bb",
   "metadata": {},
   "source": [
    "Q15: Can you modify the elements of a tuple? Explain why or why not.\n",
    "A: No, tuples are immutable. Once created, their elements cannot be changed, ensuring stability\n",
    "and data integrity."
   ]
  },
  {
   "cell_type": "markdown",
   "id": "be0e8106-d45a-44b5-af52-c0672ec6024f",
   "metadata": {},
   "source": [
    "Q16: What is a nested dictionary, and give an example of its use case.\n",
    "A: A nested dictionary is a dictionary where values are also dictionaries. Example: student = {'name':\n",
    "'John', 'grades': {'math': 90, 'science': 85}}."
   ]
  },
  {
   "cell_type": "markdown",
   "id": "85ae51a7-ca8f-41e5-8901-0fe84fa0621a",
   "metadata": {},
   "source": [
    "Q17: Describe the time complexity of accessing elements in a dictionary.\n",
    "A: Accessing elements in a dictionary has an average time complexity of O(1), thanks to its\n",
    "underlying hash table implementation."
   ]
  },
  {
   "cell_type": "markdown",
   "id": "c836911f-3c68-4c32-97b9-7c4087f5cf45",
   "metadata": {},
   "source": [
    "Q18: In what situations are lists preferred over dictionaries?\n",
    "A: Lists are preferred when order matters or when dealing with a simple collection of items without\n",
    "needing key-based access."
   ]
  },
  {
   "cell_type": "markdown",
   "id": "72017d9c-db6b-45c7-9bef-a45aa44e0dbf",
   "metadata": {},
   "source": [
    "Q19: Why are dictionaries considered unordered, and how does that affect data retrieval?\n",
    "A:Dictionaries were implemented using hash tables.\n",
    "The internal storage of items was based on the hash of the key, not the order of insertion.\n",
    "As a result, iterating through a dictionary would return items in arbitrary order, and that order could even change between executions."
   ]
  },
  {
   "cell_type": "markdown",
   "id": "21346747-e054-4dac-9013-9a2b060a8df3",
   "metadata": {},
   "source": [
    "Q20: Explain the difference between a list and a dictionary in terms of data retrieval.\n",
    "A: Lists retrieve data using integer indices (e.g., a[0]), while dictionaries retrieve data using unique\n",
    "keys (e.g., d['name'])."
   ]
  },
  {
   "cell_type": "markdown",
   "id": "e6fb68b6-5a9c-4fb0-babf-8da11e36f857",
   "metadata": {},
   "source": [
    "Practical Questions"
   ]
  },
  {
   "cell_type": "markdown",
   "id": "8cc0fdef-ea51-43f6-bb71-e2c0e510a3d3",
   "metadata": {},
   "source": [
    "Q1- Write a code to create a string with your name and print it."
   ]
  },
  {
   "cell_type": "code",
   "execution_count": null,
   "id": "3b9b2128-dc22-40b6-b03a-90d1d3896742",
   "metadata": {},
   "outputs": [],
   "source": [
    "My_Name = \"Anand Pathak\"\n",
    "print(\"My Name is-\",My_Name)"
   ]
  },
  {
   "cell_type": "markdown",
   "id": "56e4e8e7-b047-45d9-8146-16e5792cf68d",
   "metadata": {},
   "source": [
    "Q2- Write a code to find the length of the string \"Hello World\"."
   ]
  },
  {
   "cell_type": "code",
   "execution_count": 3,
   "id": "598bf377-026c-4787-99a5-cff256bb5f2c",
   "metadata": {},
   "outputs": [
    {
     "name": "stdout",
     "output_type": "stream",
     "text": [
      "Length of string is  11\n"
     ]
    }
   ],
   "source": [
    "strng = \"Hello World\"\n",
    "length = len(strng)\n",
    "print(\"Length of string is \",length)"
   ]
  },
  {
   "cell_type": "markdown",
   "id": "42ec1ec8-4b2b-445a-9fce-51d1fc51a33d",
   "metadata": {},
   "source": [
    "Q3- Write a code to slice the first 3 characters from the string \"Python Programming\"."
   ]
  },
  {
   "cell_type": "code",
   "execution_count": 8,
   "id": "383a729c-72f7-45db-b7db-19d6e0bb0d67",
   "metadata": {},
   "outputs": [
    {
     "name": "stdout",
     "output_type": "stream",
     "text": [
      "First three characters are: Pyt\n"
     ]
    }
   ],
   "source": [
    "Code = \"Python Programming\"\n",
    "Sliced_Code = Code[0:3]\n",
    "print(\"First three characters are:\",Sliced_Code)"
   ]
  },
  {
   "cell_type": "markdown",
   "id": "1f534a2b-3d4d-4df3-b1c2-50311f7860ef",
   "metadata": {},
   "source": [
    "Q4- Write a code to convert the string \"hello\" to uppercase."
   ]
  },
  {
   "cell_type": "code",
   "execution_count": 9,
   "id": "0aa3e225-15d9-4a09-8d22-1edf7c66d832",
   "metadata": {},
   "outputs": [
    {
     "name": "stdout",
     "output_type": "stream",
     "text": [
      "Converted uppercase string is: HELLO\n"
     ]
    }
   ],
   "source": [
    "Text = \"hello\"\n",
    "Text2 = Text.upper()\n",
    "print(\"Converted uppercase string is:\",Text2)"
   ]
  },
  {
   "cell_type": "markdown",
   "id": "91853d62-f588-4a84-ad1c-7094bcd501f4",
   "metadata": {},
   "source": [
    "Q5- Write a code to replace the word \"apple\" with \"orange\" in the string \"I like apple\"."
   ]
  },
  {
   "cell_type": "code",
   "execution_count": 14,
   "id": "4e52fe36-ed71-4e33-b383-a87336466362",
   "metadata": {},
   "outputs": [
    {
     "name": "stdout",
     "output_type": "stream",
     "text": [
      "Replaced Text is:  I like orange\n"
     ]
    }
   ],
   "source": [
    "Text1 = \"I like apple\"\n",
    "Replaced_Text = Text1.replace(\"apple\",\"orange\")\n",
    "print(\"Replaced Text is: \",Replaced_Text)"
   ]
  },
  {
   "cell_type": "markdown",
   "id": "195d8242-7c2a-4847-8f68-88193df07ab8",
   "metadata": {},
   "source": [
    "Q6- Write a code to create a list with numbers 1 to 5 and print it."
   ]
  },
  {
   "cell_type": "code",
   "execution_count": 15,
   "id": "aab7cd9d-d746-46f2-8ff0-8a6b8a20d578",
   "metadata": {},
   "outputs": [
    {
     "name": "stdout",
     "output_type": "stream",
     "text": [
      "Here,is the list of numbers from 1 to 5: [1, 2, 3, 4, 5]\n"
     ]
    }
   ],
   "source": [
    "List1 = [1,2,3,4,5]\n",
    "print(\"Here,is the list of numbers from 1 to 5:\",List1)"
   ]
  },
  {
   "cell_type": "markdown",
   "id": "7748ec8c-0790-48e6-89bf-61e61fd9a155",
   "metadata": {},
   "source": [
    "Q7- Write a code to append the number 10 to the list [1, 2, 3, 4]"
   ]
  },
  {
   "cell_type": "code",
   "execution_count": 17,
   "id": "c571907d-ceb4-4ef9-941e-d20fad901cff",
   "metadata": {},
   "outputs": [
    {
     "name": "stdout",
     "output_type": "stream",
     "text": [
      "The appended list is here: [1, 2, 3, 4, 10]\n"
     ]
    }
   ],
   "source": [
    "List2 = [1,2,3,4]\n",
    "List2.append(10)\n",
    "print(\"The appended list is here:\",List2)"
   ]
  },
  {
   "cell_type": "markdown",
   "id": "b4bd79a5-8e89-4b4f-b869-93f3b57b8035",
   "metadata": {},
   "source": [
    "Q8- Write a code to remove the number 3 from the list [1, 2, 3, 4, 5]."
   ]
  },
  {
   "cell_type": "code",
   "execution_count": 18,
   "id": "439bffcf-8abb-428b-8fcb-4e64820cb174",
   "metadata": {},
   "outputs": [
    {
     "name": "stdout",
     "output_type": "stream",
     "text": [
      "Updated list is here: [1, 2, 4, 5]\n"
     ]
    }
   ],
   "source": [
    "List4 = [1, 2, 3, 4, 5]\n",
    "List4.remove(3)\n",
    "print(\"Updated list is here:\",List4)"
   ]
  },
  {
   "cell_type": "markdown",
   "id": "06ad34c0-94e6-4810-85b4-3db9dfa63d26",
   "metadata": {},
   "source": [
    "Q9- Write a code to access the second element in the list ['a', 'b', 'c', 'd']."
   ]
  },
  {
   "cell_type": "code",
   "execution_count": 20,
   "id": "137e1742-64d3-4a8e-9ea2-641961e4adcb",
   "metadata": {},
   "outputs": [
    {
     "name": "stdout",
     "output_type": "stream",
     "text": [
      "Second Element in list is: b\n"
     ]
    }
   ],
   "source": [
    "List5 = ['a', 'b', 'c', 'd']\n",
    "second_element = List5[1]\n",
    "print(\"Second Element in list is:\",second_element)"
   ]
  },
  {
   "cell_type": "markdown",
   "id": "172ea202-37d4-4e3d-af1a-6e1a5e99a978",
   "metadata": {},
   "source": [
    "Q10- Write a code to reverse the list [10, 20, 30, 40, 50]."
   ]
  },
  {
   "cell_type": "code",
   "execution_count": 21,
   "id": "e12df75d-e16d-4e3e-bbac-cc743f2cfd62",
   "metadata": {},
   "outputs": [
    {
     "name": "stdout",
     "output_type": "stream",
     "text": [
      "Reversed list is here: [50, 40, 30, 20, 10]\n"
     ]
    }
   ],
   "source": [
    "List6 = [10, 20, 30, 40, 50]\n",
    "List6.reverse()\n",
    "print(\"Reversed list is here:\",List6)"
   ]
  },
  {
   "cell_type": "markdown",
   "id": "2f293489-13ff-4c16-9964-b29292d54bb5",
   "metadata": {},
   "source": [
    "Q11- Write a code to create a tuple with the elements 100, 200, 300 and print it."
   ]
  },
  {
   "cell_type": "code",
   "execution_count": 22,
   "id": "0f2146f2-10eb-4aaa-948b-7929b6e160f9",
   "metadata": {},
   "outputs": [
    {
     "name": "stdout",
     "output_type": "stream",
     "text": [
      "The Tuple from given element is here: (100, 200, 300)\n"
     ]
    }
   ],
   "source": [
    "Tple = (100,200,300)\n",
    "print(\"The Tuple from given element is here:\",Tple)"
   ]
  },
  {
   "cell_type": "markdown",
   "id": "1101e917-0588-4c8d-a98a-41263e213eec",
   "metadata": {},
   "source": [
    "Q12-  Write a code to access the second-to-last element of the tuple ('red', 'green', 'blue', 'yellow')."
   ]
  },
  {
   "cell_type": "code",
   "execution_count": 23,
   "id": "b1c09261-731b-40bb-b4e8-2b0d81892939",
   "metadata": {},
   "outputs": [
    {
     "name": "stdout",
     "output_type": "stream",
     "text": [
      "The second-to-last element is: blue\n"
     ]
    }
   ],
   "source": [
    "Colors = ('red', 'green', 'blue', 'yellow')\n",
    "Colors1 = Colors[-2]\n",
    "print(\"The second-to-last element is:\",Colors1)"
   ]
  },
  {
   "cell_type": "markdown",
   "id": "2e974e6c-afe5-43b7-a75c-24f0b252f65b",
   "metadata": {},
   "source": [
    "Q13- Write a code to find the minimum number in the tuple (10, 20, 5, 15)."
   ]
  },
  {
   "cell_type": "code",
   "execution_count": 24,
   "id": "23795c0c-0cd1-4f3e-b387-25005319b8f2",
   "metadata": {},
   "outputs": [
    {
     "data": {
      "text/plain": [
       "5"
      ]
     },
     "execution_count": 24,
     "metadata": {},
     "output_type": "execute_result"
    }
   ],
   "source": [
    "My_tuple = (10, 20, 5, 15)\n",
    "min(My_tuple)"
   ]
  },
  {
   "cell_type": "markdown",
   "id": "411bf6d5-196c-4635-99c4-70c95e4556e6",
   "metadata": {},
   "source": [
    "Q14- Write a code to find the index of the element \"cat\" in the tuple ('dog', 'cat', 'rabbit')."
   ]
  },
  {
   "cell_type": "code",
   "execution_count": 25,
   "id": "09f0224e-3cdd-4ed2-a046-41110079ca77",
   "metadata": {},
   "outputs": [
    {
     "name": "stdout",
     "output_type": "stream",
     "text": [
      "The index of element cat is: 1\n"
     ]
    }
   ],
   "source": [
    "Animals = ('dog', 'cat', 'rabbit')\n",
    "Animals_index = Animals.index(\"cat\")\n",
    "print(\"The index of element cat is:\",Animals_index)"
   ]
  },
  {
   "cell_type": "markdown",
   "id": "d3454ae2-d116-4113-8468-9802739f4602",
   "metadata": {},
   "source": [
    "Q15- Write a code to create a tuple containing three different fruits and check if \"kiwi\" is in it."
   ]
  },
  {
   "cell_type": "code",
   "execution_count": 28,
   "id": "bc279808-ef96-4d80-bdd1-6dc954bb0a2f",
   "metadata": {},
   "outputs": [
    {
     "name": "stdout",
     "output_type": "stream",
     "text": [
      "Is 'kiwi' in the tuple? True\n"
     ]
    }
   ],
   "source": [
    "Fruits = (\"Mango\",\"Avacado\",\"Kiwi\")\n",
    "Fruits2 = \"Kiwi\" in Fruits\n",
    "print(\"Is 'kiwi' in the tuple?\",Fruits2)"
   ]
  },
  {
   "cell_type": "markdown",
   "id": "f00c179f-691b-4471-b4d1-5fd906c757ad",
   "metadata": {},
   "source": [
    "Q16- Write a code to create a set with the elements 'a', 'b', 'c' and print it."
   ]
  },
  {
   "cell_type": "code",
   "execution_count": 31,
   "id": "23747ce9-825f-4991-b528-b8ba532da5f1",
   "metadata": {},
   "outputs": [
    {
     "name": "stdout",
     "output_type": "stream",
     "text": [
      "The desired set is here: {'b', 'a', 'c'}\n"
     ]
    }
   ],
   "source": [
    "Set1 = {\"a\",\"b\",\"c\"}\n",
    "print(\"The desired set is here:\",Set1)"
   ]
  },
  {
   "cell_type": "code",
   "execution_count": 32,
   "id": "6d23d74a-9978-444a-9236-dd9f7d4e6770",
   "metadata": {},
   "outputs": [
    {
     "data": {
      "text/plain": [
       "set"
      ]
     },
     "execution_count": 32,
     "metadata": {},
     "output_type": "execute_result"
    }
   ],
   "source": [
    "type(Set1)"
   ]
  },
  {
   "cell_type": "markdown",
   "id": "1e2f1968-5c18-458d-b4e8-e339358f1ff6",
   "metadata": {},
   "source": [
    "Q17- Write a code to clear all elements from the set {1, 2, 3, 4, 5}."
   ]
  },
  {
   "cell_type": "code",
   "execution_count": 34,
   "id": "e4dd138e-a4d4-44cd-8cb1-be71f2d29f69",
   "metadata": {},
   "outputs": [
    {
     "name": "stdout",
     "output_type": "stream",
     "text": [
      "Your cleared set is here: set()\n"
     ]
    }
   ],
   "source": [
    "Set2 = {1, 2, 3, 4, 5}\n",
    "Set2.clear()\n",
    "print(\"Your cleared set is here:\",Set2)"
   ]
  },
  {
   "cell_type": "markdown",
   "id": "b1e3d38a-8e76-42fb-b5aa-01d8d2343c96",
   "metadata": {},
   "source": [
    "Q18- Write a code to remove the element 4 from the set {1, 2, 3, 4}."
   ]
  },
  {
   "cell_type": "code",
   "execution_count": 36,
   "id": "cc7ef22b-c9ca-4b27-984d-399ae6fa0800",
   "metadata": {},
   "outputs": [
    {
     "name": "stdout",
     "output_type": "stream",
     "text": [
      "Updated set: {1, 2, 3}\n"
     ]
    }
   ],
   "source": [
    "Set3 = {1, 2, 3, 4}\n",
    "Set3.remove(4)\n",
    "print(\"Updated set:\", Set3)"
   ]
  },
  {
   "cell_type": "markdown",
   "id": "d1443aef-8ace-4916-a1c0-16e911a95781",
   "metadata": {},
   "source": [
    "Q19- Write a code to find the union of two sets {1, 2, 3} and {3, 4, 5}."
   ]
  },
  {
   "cell_type": "code",
   "execution_count": 39,
   "id": "51beedbc-b2b3-4ac5-b618-963719d6c24c",
   "metadata": {},
   "outputs": [
    {
     "name": "stdout",
     "output_type": "stream",
     "text": [
      "The union of two sets is here: {1, 2, 3, 4, 5}\n"
     ]
    }
   ],
   "source": [
    "Set_A = {1, 2, 3}\n",
    "Set_B = {3, 4, 5}\n",
    "Union_Set = Set_A.union(Set_B)\n",
    "print(\"The union of two sets is here:\",Union_Set)"
   ]
  },
  {
   "cell_type": "markdown",
   "id": "92ce1238-9ecb-4a9d-b14b-1f181581b26d",
   "metadata": {},
   "source": [
    "Q20- Write a code to find the intersection of two sets {1, 2, 3} and {2, 3, 4}."
   ]
  },
  {
   "cell_type": "code",
   "execution_count": 40,
   "id": "5dc91e2d-8b39-4fda-b130-8b5dbd453c23",
   "metadata": {},
   "outputs": [
    {
     "name": "stdout",
     "output_type": "stream",
     "text": [
      "The intersection of given set is: {2, 3}\n"
     ]
    }
   ],
   "source": [
    "Set_C = {1, 2, 3}\n",
    "Set_D = {2, 3, 4}\n",
    "Intersection_Set = Set_C.intersection(Set_D)\n",
    "print(\"The intersection of given set is:\",Intersection_Set)"
   ]
  },
  {
   "cell_type": "markdown",
   "id": "c1c6c5cc-b35d-48da-b586-6d57deb3ffa3",
   "metadata": {},
   "source": [
    "Q21- Write a code to create a dictionary with the keys \"name\", \"age\", and \"city\", and print it."
   ]
  },
  {
   "cell_type": "code",
   "execution_count": 41,
   "id": "3b34462f-ba8d-4eaf-b972-adfbaa6773c1",
   "metadata": {},
   "outputs": [
    {
     "name": "stdout",
     "output_type": "stream",
     "text": [
      "Here is the required output: {'Name': 'Anand Pathak', 'Age': 21, 'City': 'Lucknow'}\n"
     ]
    }
   ],
   "source": [
    "Dict1 = {\"Name\":\"Anand Pathak\",\"Age\":21,\"City\":\"Lucknow\"}\n",
    "print(\"Here is the required output:\",Dict1)"
   ]
  },
  {
   "cell_type": "markdown",
   "id": "ee234751-a516-41cf-aa7d-18e06cc2523d",
   "metadata": {},
   "source": [
    "Q22- Write a code to add a new key-value pair \"country\": \"USA\" to the dictionary {'name': 'John', 'age': 25}."
   ]
  },
  {
   "cell_type": "code",
   "execution_count": 42,
   "id": "d09b3f03-2f1b-402c-8c45-b95f80d34f01",
   "metadata": {},
   "outputs": [
    {
     "name": "stdout",
     "output_type": "stream",
     "text": [
      "Updated dictionary: {'name': 'John', 'age': 25, 'country': 'USA'}\n"
     ]
    }
   ],
   "source": [
    "Dict2 = {'name': 'John', 'age': 25}\n",
    "Dict2[\"country\"] = \"USA\"\n",
    "print(\"Updated dictionary:\",Dict2)"
   ]
  },
  {
   "cell_type": "markdown",
   "id": "2e7d162f-2ffb-4156-9d8f-9e96abd64a7a",
   "metadata": {},
   "source": [
    "Q23- Write a code to access the value associated with the key \"name\" in the dictionary {'name': 'Alice', 'age': 30}."
   ]
  },
  {
   "cell_type": "code",
   "execution_count": 44,
   "id": "5513d2ae-0563-40cd-a0ca-0c11e86a3ca3",
   "metadata": {},
   "outputs": [
    {
     "name": "stdout",
     "output_type": "stream",
     "text": [
      "Here is the value associated with name key: Alice\n"
     ]
    }
   ],
   "source": [
    "Dict3 =  {'name': 'Alice', 'age': 30}\n",
    "Dict4 = Dict3[\"name\"]\n",
    "print(\"Here is the value associated with name key:\",Dict4)"
   ]
  },
  {
   "cell_type": "markdown",
   "id": "d6f93bc1-4cae-406f-996d-bc9bc8edf36d",
   "metadata": {},
   "source": [
    "Q24- Write a code to remove the key \"age\" from the dictionary {'name': 'Bob', 'age': 22, 'city': 'New York'}."
   ]
  },
  {
   "cell_type": "code",
   "execution_count": 46,
   "id": "0047dda6-2fe2-48ee-907a-8c8557bb608d",
   "metadata": {},
   "outputs": [
    {
     "name": "stdout",
     "output_type": "stream",
     "text": [
      "Updated dictionary: {'name': 'Bob', 'city': 'New York'}\n"
     ]
    }
   ],
   "source": [
    "Dict5 = {'name': 'Bob', 'age': 22, 'city': 'New York'}\n",
    "del Dict5[\"age\"]\n",
    "print(\"Updated dictionary:\",Dict5)"
   ]
  },
  {
   "cell_type": "markdown",
   "id": "dbbd675d-8393-4c04-bc68-c204a4e207f5",
   "metadata": {},
   "source": [
    "Q25- Write a code to check if the key \"city\" exists in the dictionary {'name': 'Alice', 'city': 'Paris'}."
   ]
  },
  {
   "cell_type": "code",
   "execution_count": 47,
   "id": "df9b3273-802a-439a-a588-4b3753120ec5",
   "metadata": {},
   "outputs": [
    {
     "name": "stdout",
     "output_type": "stream",
     "text": [
      "Result: True\n"
     ]
    }
   ],
   "source": [
    "Dict6 = {'name': 'Alice', 'city': 'Paris'}\n",
    "Dict7 = \"city\" in Dict6\n",
    "print(\"Result:\",Dict7)"
   ]
  },
  {
   "cell_type": "markdown",
   "id": "4ca8692a-fa21-4f07-8ef3-9f0d62c40540",
   "metadata": {},
   "source": [
    "Q26- Write a code to create a list, a tuple, and a dictionary, and print them all."
   ]
  },
  {
   "cell_type": "code",
   "execution_count": 49,
   "id": "9e1f9e93-904f-4a33-bbe2-3d496f50a6c9",
   "metadata": {},
   "outputs": [
    {
     "name": "stdout",
     "output_type": "stream",
     "text": [
      "List: [1, 2, 3, 4, 5]\n",
      "Tuple: ('apple', 'banana', 'cherry')\n",
      "Dictionary: {'name': 'Anand', 'age': 21}\n"
     ]
    }
   ],
   "source": [
    "# Create a list\n",
    "my_list = [1, 2, 3, 4, 5]\n",
    "\n",
    "# Create a tuple\n",
    "my_tuple = ('apple', 'banana', 'cherry')\n",
    "\n",
    "# Create a dictionary\n",
    "my_dict = {'name': 'Anand', 'age': 21}\n",
    "\n",
    "# Print all data structures\n",
    "print(\"List:\", my_list)\n",
    "print(\"Tuple:\", my_tuple)\n",
    "print(\"Dictionary:\", my_dict)\n"
   ]
  },
  {
   "cell_type": "markdown",
   "id": "6086564c-76b8-4cb5-a5a0-136b3dbd54b7",
   "metadata": {},
   "source": [
    "Q27- Write a code to create a list of 5 random numbers between 1 and 100, sort it in ascending order, and print the\n",
    "result.(replaced)\n",
    "\n"
   ]
  },
  {
   "cell_type": "code",
   "execution_count": 50,
   "id": "dc081edc-0807-46b6-b056-ae4aae1a92ab",
   "metadata": {},
   "outputs": [
    {
     "name": "stdout",
     "output_type": "stream",
     "text": [
      "Sorted random numbers: [31, 38, 70, 88, 96]\n"
     ]
    }
   ],
   "source": [
    "import random\n",
    "\n",
    "numbers = []\n",
    "\n",
    "numbers.append(random.randint(1, 100))\n",
    "numbers.append(random.randint(1, 100))\n",
    "numbers.append(random.randint(1, 100))\n",
    "numbers.append(random.randint(1, 100))\n",
    "numbers.append(random.randint(1, 100))\n",
    "\n",
    "numbers.sort()\n",
    "\n",
    "print(\"Sorted random numbers:\", numbers)"
   ]
  },
  {
   "cell_type": "markdown",
   "id": "35e98bb7-0bf6-4f92-844b-de91615ae758",
   "metadata": {},
   "source": [
    "Q28- Write a code to create a list with strings and print the element at the third index."
   ]
  },
  {
   "cell_type": "code",
   "execution_count": 52,
   "id": "a727df0c-b351-4d28-a47f-7f72371b22e4",
   "metadata": {},
   "outputs": [
    {
     "name": "stdout",
     "output_type": "stream",
     "text": [
      "The required list is: ['Anand', 'Vaibhav', 'Vihan', 'Rishan', 'Faiz']\n",
      "The element at third index is: Rishan\n"
     ]
    }
   ],
   "source": [
    "Lst = [\"Anand\",\"Vaibhav\",\"Vihan\",\"Rishan\",\"Faiz\"]\n",
    "Lst1 = Lst[3]\n",
    "print(\"The required list is:\",Lst)\n",
    "print(\"The element at third index is:\",Lst1)"
   ]
  },
  {
   "cell_type": "markdown",
   "id": "817a6be4-76b9-4c9f-b997-b6a588e1336b",
   "metadata": {},
   "source": [
    "Q29- Write a code to combine two dictionaries into one and print the result."
   ]
  },
  {
   "cell_type": "code",
   "execution_count": 53,
   "id": "dca7fe65-840f-4470-a5ea-06d72ecc119a",
   "metadata": {},
   "outputs": [
    {
     "name": "stdout",
     "output_type": "stream",
     "text": [
      "Combined dictionary: {'a': 1, 'b': 2, 'c': 3, 'd': 4}\n"
     ]
    }
   ],
   "source": [
    "dict1 = {'a': 1, 'b': 2}\n",
    "\n",
    "dict2 = {'c': 3, 'd': 4}\n",
    "\n",
    "dict1.update(dict2)\n",
    "\n",
    "print(\"Combined dictionary:\", dict1)"
   ]
  },
  {
   "cell_type": "markdown",
   "id": "72efb8ee-f69b-4562-a45b-b775c94cfc4c",
   "metadata": {},
   "source": [
    "Q30- Write a code to convert a list of strings into a set."
   ]
  },
  {
   "cell_type": "code",
   "execution_count": 54,
   "id": "81ec8d2b-414c-4153-8bcc-07c933d6ca5f",
   "metadata": {},
   "outputs": [
    {
     "name": "stdout",
     "output_type": "stream",
     "text": [
      "The converted set is here: {'Anand', 'Rishan', 'Faiz', 'Vihan', 'Vaibhav'}\n"
     ]
    }
   ],
   "source": [
    "lstrng = [\"Anand\",\"Vaibhav\",\"Vihan\",\"Rishan\",\"Faiz\"]\n",
    "Setrng = set(lstrng)\n",
    "print(\"The converted set is here:\",Setrng)"
   ]
  }
 ],
 "metadata": {
  "kernelspec": {
   "display_name": "Python [conda env:base] *",
   "language": "python",
   "name": "conda-base-py"
  },
  "language_info": {
   "codemirror_mode": {
    "name": "ipython",
    "version": 3
   },
   "file_extension": ".py",
   "mimetype": "text/x-python",
   "name": "python",
   "nbconvert_exporter": "python",
   "pygments_lexer": "ipython3",
   "version": "3.12.7"
  }
 },
 "nbformat": 4,
 "nbformat_minor": 5
}
